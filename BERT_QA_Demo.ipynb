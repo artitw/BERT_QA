{
  "nbformat": 4,
  "nbformat_minor": 0,
  "metadata": {
    "colab": {
      "name": "BERT_QA_Demo.ipynb",
      "provenance": [],
      "collapsed_sections": []
    },
    "kernelspec": {
      "name": "python3",
      "display_name": "Python 3"
    },
    "accelerator": "GPU"
  },
  "cells": [
    {
      "cell_type": "code",
      "metadata": {
        "id": "kTy4MUDMPYkl",
        "colab_type": "code",
        "colab": {}
      },
      "source": [
        "pip install bert_qa"
      ],
      "execution_count": 0,
      "outputs": []
    },
    {
      "cell_type": "code",
      "metadata": {
        "id": "j7Cy5mK_yGSd",
        "colab_type": "code",
        "colab": {}
      },
      "source": [
        "%%bash\n",
        "wget -q https://rajpurkar.github.io/SQuAD-explorer/dataset/dev-v1.1.json\n",
        "wget -q https://rajpurkar.github.io/SQuAD-explorer/dataset/train-v1.1.json"
      ],
      "execution_count": 0,
      "outputs": []
    },
    {
      "cell_type": "code",
      "metadata": {
        "id": "E7uvFpaRyT8P",
        "colab_type": "code",
        "colab": {}
      },
      "source": [
        "%%bash\n",
        "wget -q https://storage.googleapis.com/cloud-tpu-checkpoints/bert/keras_bert/cased_L-12_H-768_A-12.tar.gz\n",
        "tar -xvzf cased_L-12_H-768_A-12.tar.gz\n",
        "mv -f home/hongkuny/public/pretrained_models/keras_bert/cased_L-12_H-768_A-12 ."
      ],
      "execution_count": 0,
      "outputs": []
    },
    {
      "cell_type": "code",
      "metadata": {
        "id": "hS6k3PpbncgM",
        "colab_type": "code",
        "colab": {}
      },
      "source": [
        "from bert_qa import SQuAD\n",
        "qa = SQuAD()\n",
        "qa.preprocess_training_data()"
      ],
      "execution_count": 0,
      "outputs": []
    },
    {
      "cell_type": "code",
      "metadata": {
        "id": "QT6_6dxSDH4O",
        "colab_type": "code",
        "colab": {}
      },
      "source": [
        "qa.fit()"
      ],
      "execution_count": 0,
      "outputs": []
    },
    {
      "cell_type": "code",
      "metadata": {
        "id": "RIYEAwqFDIY4",
        "colab_type": "code",
        "colab": {}
      },
      "source": [
        "predictions = qa.predict()"
      ],
      "execution_count": 0,
      "outputs": []
    }
  ]
}